{
 "cells": [
  {
   "cell_type": "code",
   "execution_count": 1,
   "id": "f4644ff9-0966-4752-a992-284b85922733",
   "metadata": {},
   "outputs": [
    {
     "name": "stdout",
     "output_type": "stream",
     "text": [
      "^C\n"
     ]
    }
   ],
   "source": [
    "! streamlit run app.py"
   ]
  },
  {
   "cell_type": "code",
   "execution_count": 3,
   "id": "09db94e9-1677-45ba-b398-8f979228ee48",
   "metadata": {},
   "outputs": [
    {
     "name": "stdout",
     "output_type": "stream",
     "text": [
      "Name: artutils\n",
      "Version: 1.0.0\n",
      "Summary: A modular ML-powered palette toolkit for artists and designers\n",
      "Home-page: https://github.com/aki-au/artutils\n",
      "Author: Alakarthika\n",
      "Author-email: alakarthika01@email.com\n",
      "License: MIT\n",
      "Location: C:\\Users\\alaka\\anaconda3\\envs\\artenv\\Lib\\site-packages\n",
      "Requires: kneed, matplotlib, numpy, opencv-python, Pillow, scikit-image, scikit-learn\n",
      "Required-by: \n",
      "Note: you may need to restart the kernel to use updated packages.\n"
     ]
    }
   ],
   "source": [
    "pip show artutils"
   ]
  },
  {
   "cell_type": "code",
   "execution_count": null,
   "id": "d4e71cce-51b0-42e1-be97-d81caec0dc4a",
   "metadata": {},
   "outputs": [],
   "source": []
  }
 ],
 "metadata": {
  "kernelspec": {
   "display_name": "artenv",
   "language": "python",
   "name": "artenv"
  },
  "language_info": {
   "codemirror_mode": {
    "name": "ipython",
    "version": 3
   },
   "file_extension": ".py",
   "mimetype": "text/x-python",
   "name": "python",
   "nbconvert_exporter": "python",
   "pygments_lexer": "ipython3",
   "version": "3.12.7"
  }
 },
 "nbformat": 4,
 "nbformat_minor": 5
}
